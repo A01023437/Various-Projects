{
  "nbformat": 4,
  "nbformat_minor": 0,
  "metadata": {
    "colab": {
      "name": "DisenoInstalacionesFinal.ipynb",
      "provenance": [],
      "collapsed_sections": []
    },
    "kernelspec": {
      "name": "python3",
      "display_name": "Python 3"
    }
  },
  "cells": [
    {
      "cell_type": "code",
      "metadata": {
        "id": "rV1s-AvSGI_2",
        "colab_type": "code",
        "colab": {}
      },
      "source": [
        "import pandas as pd\n",
        "import numpy as np\n",
        "\n",
        "from scipy.optimize import minimize"
      ],
      "execution_count": 0,
      "outputs": []
    },
    {
      "cell_type": "markdown",
      "metadata": {
        "id": "8qwWnWscGTkq",
        "colab_type": "text"
      },
      "source": [
        "### Definición de vectores"
      ]
    },
    {
      "cell_type": "code",
      "metadata": {
        "id": "mEKYKmHjHvqc",
        "colab_type": "code",
        "outputId": "b3a58628-7bf4-4e60-902e-7a4e5e1048b4",
        "colab": {
          "base_uri": "https://localhost:8080/",
          "height": 370
        }
      },
      "source": [
        "# se inicializa la matriz de flujos, frecuencias con los indices (nombres de las ciudades)\n",
        "matr = pd.DataFrame(index=['Aguascalientes', 'CDMX', 'Chihuahua', 'Guadalajara', 'Monterrey', 'Morelia', 'Puebla', 'Querétaro', 'Saltillo', 'Toluca', 'Nuevo Laredo'])  # nuevo laredo como estados unidos\n",
        "matr"
      ],
      "execution_count": 0,
      "outputs": [
        {
          "output_type": "execute_result",
          "data": {
            "text/html": [
              "<div>\n",
              "<style scoped>\n",
              "    .dataframe tbody tr th:only-of-type {\n",
              "        vertical-align: middle;\n",
              "    }\n",
              "\n",
              "    .dataframe tbody tr th {\n",
              "        vertical-align: top;\n",
              "    }\n",
              "\n",
              "    .dataframe thead th {\n",
              "        text-align: right;\n",
              "    }\n",
              "</style>\n",
              "<table border=\"1\" class=\"dataframe\">\n",
              "  <thead>\n",
              "    <tr style=\"text-align: right;\">\n",
              "      <th></th>\n",
              "    </tr>\n",
              "  </thead>\n",
              "  <tbody>\n",
              "    <tr>\n",
              "      <th>Aguascalientes</th>\n",
              "    </tr>\n",
              "    <tr>\n",
              "      <th>CDMX</th>\n",
              "    </tr>\n",
              "    <tr>\n",
              "      <th>Chihuahua</th>\n",
              "    </tr>\n",
              "    <tr>\n",
              "      <th>Guadalajara</th>\n",
              "    </tr>\n",
              "    <tr>\n",
              "      <th>Monterrey</th>\n",
              "    </tr>\n",
              "    <tr>\n",
              "      <th>Morelia</th>\n",
              "    </tr>\n",
              "    <tr>\n",
              "      <th>Puebla</th>\n",
              "    </tr>\n",
              "    <tr>\n",
              "      <th>Querétaro</th>\n",
              "    </tr>\n",
              "    <tr>\n",
              "      <th>Saltillo</th>\n",
              "    </tr>\n",
              "    <tr>\n",
              "      <th>Toluca</th>\n",
              "    </tr>\n",
              "    <tr>\n",
              "      <th>Nuevo Laredo</th>\n",
              "    </tr>\n",
              "  </tbody>\n",
              "</table>\n",
              "</div>"
            ],
            "text/plain": [
              "Empty DataFrame\n",
              "Columns: []\n",
              "Index: [Aguascalientes, CDMX, Chihuahua, Guadalajara, Monterrey, Morelia, Puebla, Querétaro, Saltillo, Toluca, Nuevo Laredo]"
            ]
          },
          "metadata": {
            "tags": []
          },
          "execution_count": 2
        }
      ]
    },
    {
      "cell_type": "code",
      "metadata": {
        "id": "RcUYsql9H8I8",
        "colab_type": "code",
        "outputId": "88c733a6-1ef6-4ce3-ed78-497801e33026",
        "colab": {
          "base_uri": "https://localhost:8080/",
          "height": 387
        }
      },
      "source": [
        "# se busca latitud y longitud de cada una\n",
        "from geopy.geocoders import Nominatim\n",
        "geolocator = Nominatim(user_agent=\"foursquare_agent\")\n",
        "matr['lat'] = np.nan\n",
        "matr['lon'] = np.nan\n",
        "\n",
        "for city in matr.index:\n",
        "  location = geolocator.geocode(city)\n",
        "  matr.loc[matr.index == city, 'lat'] = location.latitude\n",
        "  matr.loc[matr.index == city, 'lon'] = location.longitude\n",
        "matr\n"
      ],
      "execution_count": 0,
      "outputs": [
        {
          "output_type": "execute_result",
          "data": {
            "text/html": [
              "<div>\n",
              "<style scoped>\n",
              "    .dataframe tbody tr th:only-of-type {\n",
              "        vertical-align: middle;\n",
              "    }\n",
              "\n",
              "    .dataframe tbody tr th {\n",
              "        vertical-align: top;\n",
              "    }\n",
              "\n",
              "    .dataframe thead th {\n",
              "        text-align: right;\n",
              "    }\n",
              "</style>\n",
              "<table border=\"1\" class=\"dataframe\">\n",
              "  <thead>\n",
              "    <tr style=\"text-align: right;\">\n",
              "      <th></th>\n",
              "      <th>lat</th>\n",
              "      <th>lon</th>\n",
              "    </tr>\n",
              "  </thead>\n",
              "  <tbody>\n",
              "    <tr>\n",
              "      <th>Aguascalientes</th>\n",
              "      <td>22.000000</td>\n",
              "      <td>-102.500000</td>\n",
              "    </tr>\n",
              "    <tr>\n",
              "      <th>CDMX</th>\n",
              "      <td>19.320556</td>\n",
              "      <td>-99.151701</td>\n",
              "    </tr>\n",
              "    <tr>\n",
              "      <th>Chihuahua</th>\n",
              "      <td>28.500000</td>\n",
              "      <td>-106.000000</td>\n",
              "    </tr>\n",
              "    <tr>\n",
              "      <th>Guadalajara</th>\n",
              "      <td>20.672037</td>\n",
              "      <td>-103.338396</td>\n",
              "    </tr>\n",
              "    <tr>\n",
              "      <th>Monterrey</th>\n",
              "      <td>25.639784</td>\n",
              "      <td>-100.293102</td>\n",
              "    </tr>\n",
              "    <tr>\n",
              "      <th>Morelia</th>\n",
              "      <td>19.702712</td>\n",
              "      <td>-101.192382</td>\n",
              "    </tr>\n",
              "    <tr>\n",
              "      <th>Puebla</th>\n",
              "      <td>18.833333</td>\n",
              "      <td>-98.000000</td>\n",
              "    </tr>\n",
              "    <tr>\n",
              "      <th>Querétaro</th>\n",
              "      <td>20.854257</td>\n",
              "      <td>-99.847560</td>\n",
              "    </tr>\n",
              "    <tr>\n",
              "      <th>Saltillo</th>\n",
              "      <td>25.423043</td>\n",
              "      <td>-100.992751</td>\n",
              "    </tr>\n",
              "    <tr>\n",
              "      <th>Toluca</th>\n",
              "      <td>19.292545</td>\n",
              "      <td>-99.656901</td>\n",
              "    </tr>\n",
              "    <tr>\n",
              "      <th>Nuevo Laredo</th>\n",
              "      <td>27.476151</td>\n",
              "      <td>-99.518599</td>\n",
              "    </tr>\n",
              "  </tbody>\n",
              "</table>\n",
              "</div>"
            ],
            "text/plain": [
              "                      lat         lon\n",
              "Aguascalientes  22.000000 -102.500000\n",
              "CDMX            19.320556  -99.151701\n",
              "Chihuahua       28.500000 -106.000000\n",
              "Guadalajara     20.672037 -103.338396\n",
              "Monterrey       25.639784 -100.293102\n",
              "Morelia         19.702712 -101.192382\n",
              "Puebla          18.833333  -98.000000\n",
              "Querétaro       20.854257  -99.847560\n",
              "Saltillo        25.423043 -100.992751\n",
              "Toluca          19.292545  -99.656901\n",
              "Nuevo Laredo    27.476151  -99.518599"
            ]
          },
          "metadata": {
            "tags": []
          },
          "execution_count": 3
        }
      ]
    },
    {
      "cell_type": "code",
      "metadata": {
        "id": "qp76hOSsMsDb",
        "colab_type": "code",
        "outputId": "21c74c46-2c8e-4d08-9df7-46a376204a89",
        "colab": {
          "base_uri": "https://localhost:8080/",
          "height": 822
        }
      },
      "source": [
        "import folium # https://python-visualization.github.io/folium/quickstart.html\n",
        "m = folium.Map(location=[geolocator.geocode('Mexico').latitude, geolocator.geocode('Mexico').longitude ], zoom_start=6)\n",
        "for i in range(len(matr.index)):\n",
        "  folium.Marker([matr.iloc[i, 0], matr.iloc[i, 1]]).add_to(m)\n",
        "m"
      ],
      "execution_count": 0,
      "outputs": [
        {
          "output_type": "execute_result",
          "data": {
            "text/html": [
              "<div style=\"width:100%;\"><div style=\"position:relative;width:100%;height:0;padding-bottom:60%;\"><iframe src=\"data:text/html;charset=utf-8;base64,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\" style=\"position:absolute;width:100%;height:100%;left:0;top:0;border:none !important;\" allowfullscreen webkitallowfullscreen mozallowfullscreen></iframe></div></div>"
            ],
            "text/plain": [
              "<folium.folium.Map at 0x7f38a1cab6a0>"
            ]
          },
          "metadata": {
            "tags": []
          },
          "execution_count": 4
        }
      ]
    },
    {
      "cell_type": "code",
      "metadata": {
        "id": "40TnXlh1GWfo",
        "colab_type": "code",
        "outputId": "207e4cd7-3bc9-475f-f419-399a6677588a",
        "colab": {
          "base_uri": "https://localhost:8080/",
          "height": 458
        }
      },
      "source": [
        "# completar datos segun instrucciones del proyecto\n",
        "\n",
        "# cuando no hay un valor, se reemplaza con 0\n",
        "vector = {\n",
        "    'freq_compra': [0, .40, 0, .25, .10, 0, .05, .10, 0, 0, .10],\n",
        "    'pct_compra_monetario': [0, .35, 0, .25, .10, 0, .05, .05, 0, 0, .20],\n",
        "    'freq_venta': [.02, .21, .05, .15, .11, .06, .09, .11, .02, .03, .06 ], # otros .09\n",
        "    'pct_utilidades': [.01, .24, .03, .19, .14, .03, .07, .11, .01, .01, .09]  # otros .7\n",
        "}\n",
        "# nota: a los otros no se los puede incluir ya que no tienen coordenadas para asociarlos\n",
        "# por lo tanto se los transforma, dividiendo a cada valor sobre el total que suman\n",
        "# esto permitirá que el vector de penalización visto más adelante no esté sesgado\n",
        "suma_venta = sum(vector['freq_venta'])\n",
        "vector['freq_venta'] = [valor / suma_venta  for valor in vector['freq_venta']]\n",
        "suma_utilidad = sum(vector['pct_utilidades'])\n",
        "vector['pct_utilidades'] = [valor / suma_utilidad for valor in vector['pct_utilidades']]\n",
        "\n",
        "# comprobar\n",
        "for k in vector.keys():\n",
        "  print(f'Suma de {k} es ',  sum(vector[k]))\n",
        "\n",
        "vector = pd.DataFrame(vector, index=matr.index)\n",
        "\n",
        "\n",
        "matr = pd.merge(matr, vector, left_index=True, right_index=True)\n",
        "matr"
      ],
      "execution_count": 0,
      "outputs": [
        {
          "output_type": "stream",
          "text": [
            "Suma de freq_compra es  1.0\n",
            "Suma de pct_compra_monetario es  1.0\n",
            "Suma de freq_venta es  1.0\n",
            "Suma de pct_utilidades es  0.9999999999999998\n"
          ],
          "name": "stdout"
        },
        {
          "output_type": "execute_result",
          "data": {
            "text/html": [
              "<div>\n",
              "<style scoped>\n",
              "    .dataframe tbody tr th:only-of-type {\n",
              "        vertical-align: middle;\n",
              "    }\n",
              "\n",
              "    .dataframe tbody tr th {\n",
              "        vertical-align: top;\n",
              "    }\n",
              "\n",
              "    .dataframe thead th {\n",
              "        text-align: right;\n",
              "    }\n",
              "</style>\n",
              "<table border=\"1\" class=\"dataframe\">\n",
              "  <thead>\n",
              "    <tr style=\"text-align: right;\">\n",
              "      <th></th>\n",
              "      <th>lat</th>\n",
              "      <th>lon</th>\n",
              "      <th>freq_compra</th>\n",
              "      <th>pct_compra_monetario</th>\n",
              "      <th>freq_venta</th>\n",
              "      <th>pct_utilidades</th>\n",
              "    </tr>\n",
              "  </thead>\n",
              "  <tbody>\n",
              "    <tr>\n",
              "      <th>Aguascalientes</th>\n",
              "      <td>22.000000</td>\n",
              "      <td>-102.500000</td>\n",
              "      <td>0.00</td>\n",
              "      <td>0.00</td>\n",
              "      <td>0.021978</td>\n",
              "      <td>0.010753</td>\n",
              "    </tr>\n",
              "    <tr>\n",
              "      <th>CDMX</th>\n",
              "      <td>19.320556</td>\n",
              "      <td>-99.151701</td>\n",
              "      <td>0.40</td>\n",
              "      <td>0.35</td>\n",
              "      <td>0.230769</td>\n",
              "      <td>0.258065</td>\n",
              "    </tr>\n",
              "    <tr>\n",
              "      <th>Chihuahua</th>\n",
              "      <td>28.500000</td>\n",
              "      <td>-106.000000</td>\n",
              "      <td>0.00</td>\n",
              "      <td>0.00</td>\n",
              "      <td>0.054945</td>\n",
              "      <td>0.032258</td>\n",
              "    </tr>\n",
              "    <tr>\n",
              "      <th>Guadalajara</th>\n",
              "      <td>20.672037</td>\n",
              "      <td>-103.338396</td>\n",
              "      <td>0.25</td>\n",
              "      <td>0.25</td>\n",
              "      <td>0.164835</td>\n",
              "      <td>0.204301</td>\n",
              "    </tr>\n",
              "    <tr>\n",
              "      <th>Monterrey</th>\n",
              "      <td>25.639784</td>\n",
              "      <td>-100.293102</td>\n",
              "      <td>0.10</td>\n",
              "      <td>0.10</td>\n",
              "      <td>0.120879</td>\n",
              "      <td>0.150538</td>\n",
              "    </tr>\n",
              "    <tr>\n",
              "      <th>Morelia</th>\n",
              "      <td>19.702712</td>\n",
              "      <td>-101.192382</td>\n",
              "      <td>0.00</td>\n",
              "      <td>0.00</td>\n",
              "      <td>0.065934</td>\n",
              "      <td>0.032258</td>\n",
              "    </tr>\n",
              "    <tr>\n",
              "      <th>Puebla</th>\n",
              "      <td>18.833333</td>\n",
              "      <td>-98.000000</td>\n",
              "      <td>0.05</td>\n",
              "      <td>0.05</td>\n",
              "      <td>0.098901</td>\n",
              "      <td>0.075269</td>\n",
              "    </tr>\n",
              "    <tr>\n",
              "      <th>Querétaro</th>\n",
              "      <td>20.854257</td>\n",
              "      <td>-99.847560</td>\n",
              "      <td>0.10</td>\n",
              "      <td>0.05</td>\n",
              "      <td>0.120879</td>\n",
              "      <td>0.118280</td>\n",
              "    </tr>\n",
              "    <tr>\n",
              "      <th>Saltillo</th>\n",
              "      <td>25.423043</td>\n",
              "      <td>-100.992751</td>\n",
              "      <td>0.00</td>\n",
              "      <td>0.00</td>\n",
              "      <td>0.021978</td>\n",
              "      <td>0.010753</td>\n",
              "    </tr>\n",
              "    <tr>\n",
              "      <th>Toluca</th>\n",
              "      <td>19.292545</td>\n",
              "      <td>-99.656901</td>\n",
              "      <td>0.00</td>\n",
              "      <td>0.00</td>\n",
              "      <td>0.032967</td>\n",
              "      <td>0.010753</td>\n",
              "    </tr>\n",
              "    <tr>\n",
              "      <th>Nuevo Laredo</th>\n",
              "      <td>27.476151</td>\n",
              "      <td>-99.518599</td>\n",
              "      <td>0.10</td>\n",
              "      <td>0.20</td>\n",
              "      <td>0.065934</td>\n",
              "      <td>0.096774</td>\n",
              "    </tr>\n",
              "  </tbody>\n",
              "</table>\n",
              "</div>"
            ],
            "text/plain": [
              "                      lat         lon  ...  freq_venta  pct_utilidades\n",
              "Aguascalientes  22.000000 -102.500000  ...    0.021978        0.010753\n",
              "CDMX            19.320556  -99.151701  ...    0.230769        0.258065\n",
              "Chihuahua       28.500000 -106.000000  ...    0.054945        0.032258\n",
              "Guadalajara     20.672037 -103.338396  ...    0.164835        0.204301\n",
              "Monterrey       25.639784 -100.293102  ...    0.120879        0.150538\n",
              "Morelia         19.702712 -101.192382  ...    0.065934        0.032258\n",
              "Puebla          18.833333  -98.000000  ...    0.098901        0.075269\n",
              "Querétaro       20.854257  -99.847560  ...    0.120879        0.118280\n",
              "Saltillo        25.423043 -100.992751  ...    0.021978        0.010753\n",
              "Toluca          19.292545  -99.656901  ...    0.032967        0.010753\n",
              "Nuevo Laredo    27.476151  -99.518599  ...    0.065934        0.096774\n",
              "\n",
              "[11 rows x 6 columns]"
            ]
          },
          "metadata": {
            "tags": []
          },
          "execution_count": 5
        }
      ]
    },
    {
      "cell_type": "markdown",
      "metadata": {
        "id": "v0LYJ3sJdtRY",
        "colab_type": "text"
      },
      "source": [
        "### Determinación del vector de 'penalización'\n",
        " Cuando se recorre una distancia, debe ser multiplicada también por un vector que representa el costo total, teniendo en cuenta flujos y frecuencias, tanto para clientes como para proveedores. <br/>\n",
        " Por esto, para clientes y proveedores por separado se hace una suma de la frequencia de compra (o venta) y del porcentaje de compra(o venta) monetario. <br/>\n",
        " Se hace una suma porque no se sabe el margen de ventas / compras que se tiene. <br/>\n",
        "   Por último, a la suma de los clientes se la promedia de forma ponderada con la de los proveedores, según las instrucciones, según lo siguiente: <br/>\n",
        "   `Por último, para determinar que peso se le debe dar a la ubicación de los proveedores y que peso a la ubicación\n",
        "de los clientes, se sabe que el costo asociado al trasporte de un producto de proveedor a fabrica representa sólo\n",
        "el 40% del costo asociado al costo de transporte de fabrica a clientes.`\n"
      ]
    },
    {
      "cell_type": "code",
      "metadata": {
        "id": "WElUQosXGX6B",
        "colab_type": "code",
        "outputId": "86eefcf7-34a4-4f9f-a03e-3717737500aa",
        "colab": {
          "base_uri": "https://localhost:8080/",
          "height": 387
        }
      },
      "source": [
        "matr['suma_provs'] = matr['freq_compra'] + matr['pct_compra_monetario']\n",
        "matr['suma_clientes'] = matr['freq_venta'] +  1 - matr['pct_utilidades']  # se saca el complemento de utilidades, tal que se penalice por menos utilidades\n",
        "matr['penal'] = matr['suma_provs']  * .6 + matr['suma_clientes'] * .4\n",
        "matr"
      ],
      "execution_count": 0,
      "outputs": [
        {
          "output_type": "execute_result",
          "data": {
            "text/html": [
              "<div>\n",
              "<style scoped>\n",
              "    .dataframe tbody tr th:only-of-type {\n",
              "        vertical-align: middle;\n",
              "    }\n",
              "\n",
              "    .dataframe tbody tr th {\n",
              "        vertical-align: top;\n",
              "    }\n",
              "\n",
              "    .dataframe thead th {\n",
              "        text-align: right;\n",
              "    }\n",
              "</style>\n",
              "<table border=\"1\" class=\"dataframe\">\n",
              "  <thead>\n",
              "    <tr style=\"text-align: right;\">\n",
              "      <th></th>\n",
              "      <th>lat</th>\n",
              "      <th>lon</th>\n",
              "      <th>freq_compra</th>\n",
              "      <th>pct_compra_monetario</th>\n",
              "      <th>freq_venta</th>\n",
              "      <th>pct_utilidades</th>\n",
              "      <th>suma_provs</th>\n",
              "      <th>suma_clientes</th>\n",
              "      <th>penal</th>\n",
              "    </tr>\n",
              "  </thead>\n",
              "  <tbody>\n",
              "    <tr>\n",
              "      <th>Aguascalientes</th>\n",
              "      <td>22.000000</td>\n",
              "      <td>-102.500000</td>\n",
              "      <td>0.00</td>\n",
              "      <td>0.00</td>\n",
              "      <td>0.021978</td>\n",
              "      <td>0.010753</td>\n",
              "      <td>0.00</td>\n",
              "      <td>1.011225</td>\n",
              "      <td>0.404490</td>\n",
              "    </tr>\n",
              "    <tr>\n",
              "      <th>CDMX</th>\n",
              "      <td>19.320556</td>\n",
              "      <td>-99.151701</td>\n",
              "      <td>0.40</td>\n",
              "      <td>0.35</td>\n",
              "      <td>0.230769</td>\n",
              "      <td>0.258065</td>\n",
              "      <td>0.75</td>\n",
              "      <td>0.972705</td>\n",
              "      <td>0.839082</td>\n",
              "    </tr>\n",
              "    <tr>\n",
              "      <th>Chihuahua</th>\n",
              "      <td>28.500000</td>\n",
              "      <td>-106.000000</td>\n",
              "      <td>0.00</td>\n",
              "      <td>0.00</td>\n",
              "      <td>0.054945</td>\n",
              "      <td>0.032258</td>\n",
              "      <td>0.00</td>\n",
              "      <td>1.022687</td>\n",
              "      <td>0.409075</td>\n",
              "    </tr>\n",
              "    <tr>\n",
              "      <th>Guadalajara</th>\n",
              "      <td>20.672037</td>\n",
              "      <td>-103.338396</td>\n",
              "      <td>0.25</td>\n",
              "      <td>0.25</td>\n",
              "      <td>0.164835</td>\n",
              "      <td>0.204301</td>\n",
              "      <td>0.50</td>\n",
              "      <td>0.960534</td>\n",
              "      <td>0.684214</td>\n",
              "    </tr>\n",
              "    <tr>\n",
              "      <th>Monterrey</th>\n",
              "      <td>25.639784</td>\n",
              "      <td>-100.293102</td>\n",
              "      <td>0.10</td>\n",
              "      <td>0.10</td>\n",
              "      <td>0.120879</td>\n",
              "      <td>0.150538</td>\n",
              "      <td>0.20</td>\n",
              "      <td>0.970341</td>\n",
              "      <td>0.508137</td>\n",
              "    </tr>\n",
              "    <tr>\n",
              "      <th>Morelia</th>\n",
              "      <td>19.702712</td>\n",
              "      <td>-101.192382</td>\n",
              "      <td>0.00</td>\n",
              "      <td>0.00</td>\n",
              "      <td>0.065934</td>\n",
              "      <td>0.032258</td>\n",
              "      <td>0.00</td>\n",
              "      <td>1.033676</td>\n",
              "      <td>0.413470</td>\n",
              "    </tr>\n",
              "    <tr>\n",
              "      <th>Puebla</th>\n",
              "      <td>18.833333</td>\n",
              "      <td>-98.000000</td>\n",
              "      <td>0.05</td>\n",
              "      <td>0.05</td>\n",
              "      <td>0.098901</td>\n",
              "      <td>0.075269</td>\n",
              "      <td>0.10</td>\n",
              "      <td>1.023632</td>\n",
              "      <td>0.469453</td>\n",
              "    </tr>\n",
              "    <tr>\n",
              "      <th>Querétaro</th>\n",
              "      <td>20.854257</td>\n",
              "      <td>-99.847560</td>\n",
              "      <td>0.10</td>\n",
              "      <td>0.05</td>\n",
              "      <td>0.120879</td>\n",
              "      <td>0.118280</td>\n",
              "      <td>0.15</td>\n",
              "      <td>1.002600</td>\n",
              "      <td>0.491040</td>\n",
              "    </tr>\n",
              "    <tr>\n",
              "      <th>Saltillo</th>\n",
              "      <td>25.423043</td>\n",
              "      <td>-100.992751</td>\n",
              "      <td>0.00</td>\n",
              "      <td>0.00</td>\n",
              "      <td>0.021978</td>\n",
              "      <td>0.010753</td>\n",
              "      <td>0.00</td>\n",
              "      <td>1.011225</td>\n",
              "      <td>0.404490</td>\n",
              "    </tr>\n",
              "    <tr>\n",
              "      <th>Toluca</th>\n",
              "      <td>19.292545</td>\n",
              "      <td>-99.656901</td>\n",
              "      <td>0.00</td>\n",
              "      <td>0.00</td>\n",
              "      <td>0.032967</td>\n",
              "      <td>0.010753</td>\n",
              "      <td>0.00</td>\n",
              "      <td>1.022214</td>\n",
              "      <td>0.408886</td>\n",
              "    </tr>\n",
              "    <tr>\n",
              "      <th>Nuevo Laredo</th>\n",
              "      <td>27.476151</td>\n",
              "      <td>-99.518599</td>\n",
              "      <td>0.10</td>\n",
              "      <td>0.20</td>\n",
              "      <td>0.065934</td>\n",
              "      <td>0.096774</td>\n",
              "      <td>0.30</td>\n",
              "      <td>0.969160</td>\n",
              "      <td>0.567664</td>\n",
              "    </tr>\n",
              "  </tbody>\n",
              "</table>\n",
              "</div>"
            ],
            "text/plain": [
              "                      lat         lon  ...  suma_clientes     penal\n",
              "Aguascalientes  22.000000 -102.500000  ...       1.011225  0.404490\n",
              "CDMX            19.320556  -99.151701  ...       0.972705  0.839082\n",
              "Chihuahua       28.500000 -106.000000  ...       1.022687  0.409075\n",
              "Guadalajara     20.672037 -103.338396  ...       0.960534  0.684214\n",
              "Monterrey       25.639784 -100.293102  ...       0.970341  0.508137\n",
              "Morelia         19.702712 -101.192382  ...       1.033676  0.413470\n",
              "Puebla          18.833333  -98.000000  ...       1.023632  0.469453\n",
              "Querétaro       20.854257  -99.847560  ...       1.002600  0.491040\n",
              "Saltillo        25.423043 -100.992751  ...       1.011225  0.404490\n",
              "Toluca          19.292545  -99.656901  ...       1.022214  0.408886\n",
              "Nuevo Laredo    27.476151  -99.518599  ...       0.969160  0.567664\n",
              "\n",
              "[11 rows x 9 columns]"
            ]
          },
          "metadata": {
            "tags": []
          },
          "execution_count": 6
        }
      ]
    },
    {
      "cell_type": "markdown",
      "metadata": {
        "id": "cngEacmBb_LE",
        "colab_type": "text"
      },
      "source": [
        "### Funcion de distancia. \n",
        "En vez de utilizar la distancia Euclideana entre las coordenadas transformadas al sistema mercator, se utiliza directamente la distancia haversine: mide la distancia entre dos puntos sobre la superficie en una esfera. "
      ]
    },
    {
      "cell_type": "code",
      "metadata": {
        "id": "z-Cak4zKHtw7",
        "colab_type": "code",
        "colab": {}
      },
      "source": [
        "from math import radians, cos, sin, asin, sqrt\n",
        "\n",
        "def haversine(lon1, lat1, lon2, lat2):\n",
        "    \"\"\"\n",
        "    Calculate the great circle distance between two points \n",
        "    on the earth (specified in decimal degrees)\n",
        "    \"\"\"\n",
        "    # convert decimal degrees to radians \n",
        "    lon1, lat1, lon2, lat2 = map(radians, [lon1, lat1, lon2, lat2])\n",
        "\n",
        "    # haversine formula \n",
        "    dlon = lon2 - lon1 \n",
        "    dlat = lat2 - lat1 \n",
        "    a = sin(dlat/2)**2 + cos(lat1) * cos(lat2) * sin(dlon/2)**2\n",
        "    c = 2 * asin(sqrt(a)) \n",
        "    r = 6371 # Radius of earth in kilometers. Use 3956 for miles\n",
        "    return c * r"
      ],
      "execution_count": 0,
      "outputs": []
    },
    {
      "cell_type": "markdown",
      "metadata": {
        "id": "d4aS4vOgitP5",
        "colab_type": "text"
      },
      "source": [
        "### Función objetivo\n",
        "Función a minimizar. Tiene en cuenta la distancia haversine entre un punto a elegir y cada cliente y proveedor, multiplicado por su penalización. <br/>\n",
        "Esta penalización es la que tiene en cuenta frecuencia de venta, compra, utilidades y compra monetaria."
      ]
    },
    {
      "cell_type": "code",
      "metadata": {
        "id": "4cRDvHJciiDd",
        "colab_type": "code",
        "colab": {}
      },
      "source": [
        "def objective_function(x):\n",
        "  '''\n",
        "  param x: una lista, cuyo primer valor es longitud, y el segundo es latitud\n",
        "  '''\n",
        "  total_cost = [matr['penal'].values[i] * haversine(lon1=x[0], lat1=x[1], lon2=matr['lon'].values[i], lat2=matr['lat'].values[i]) for i in range(matr.shape[0])]\n",
        "  return np.sum(total_cost)"
      ],
      "execution_count": 0,
      "outputs": []
    },
    {
      "cell_type": "markdown",
      "metadata": {
        "id": "-LnRjLsclAUX",
        "colab_type": "text"
      },
      "source": [
        "## Ejecución del optimizador\n",
        "Se inicializa con la media de latitud y longitud. "
      ]
    },
    {
      "cell_type": "code",
      "metadata": {
        "id": "CB34v5AIkldt",
        "colab_type": "code",
        "outputId": "fe94e9b4-7bfd-4feb-9c51-4fcc2def0130",
        "colab": {
          "base_uri": "https://localhost:8080/",
          "height": 211
        }
      },
      "source": [
        "\n",
        "lon_inicial = matr['lon'].mean()\n",
        "lat_inicial = matr['lat'].mean()\n",
        "minimize(objective_function, x0=[lon_inicial, lat_inicial])"
      ],
      "execution_count": 0,
      "outputs": [
        {
          "output_type": "execute_result",
          "data": {
            "text/plain": [
              "      fun: 2131.8644462822112\n",
              " hess_inv: array([[ 0.00897413, -0.00452849],\n",
              "       [-0.00452849,  0.00757532]])\n",
              "      jac: array([0., 0.])\n",
              "  message: 'Optimization terminated successfully.'\n",
              "     nfev: 48\n",
              "      nit: 10\n",
              "     njev: 12\n",
              "   status: 0\n",
              "  success: True\n",
              "        x: array([-100.40404878,   21.03371073])"
            ]
          },
          "metadata": {
            "tags": []
          },
          "execution_count": 9
        }
      ]
    },
    {
      "cell_type": "code",
      "metadata": {
        "id": "xyTeaTEsk8bN",
        "colab_type": "code",
        "outputId": "c5c44ae2-9560-4737-927b-06f133164cdd",
        "colab": {
          "base_uri": "https://localhost:8080/",
          "height": 822
        }
      },
      "source": [
        "# se grafica la ubicación ideal\n",
        "folium.Marker([21.03371073, -100.40404878], icon=folium.Icon(color='red', icon='info-sign')).add_to(m)\n",
        "m"
      ],
      "execution_count": 0,
      "outputs": [
        {
          "output_type": "execute_result",
          "data": {
            "text/html": [
              "<div style=\"width:100%;\"><div style=\"position:relative;width:100%;height:0;padding-bottom:60%;\"><iframe src=\"data:text/html;charset=utf-8;base64,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\" style=\"position:absolute;width:100%;height:100%;left:0;top:0;border:none !important;\" allowfullscreen webkitallowfullscreen mozallowfullscreen></iframe></div></div>"
            ],
            "text/plain": [
              "<folium.folium.Map at 0x7f38a1cab6a0>"
            ]
          },
          "metadata": {
            "tags": []
          },
          "execution_count": 10
        }
      ]
    },
    {
      "cell_type": "code",
      "metadata": {
        "id": "dJ1iP5YYlMqt",
        "colab_type": "code",
        "colab": {}
      },
      "source": [
        ""
      ],
      "execution_count": 0,
      "outputs": []
    }
  ]
}